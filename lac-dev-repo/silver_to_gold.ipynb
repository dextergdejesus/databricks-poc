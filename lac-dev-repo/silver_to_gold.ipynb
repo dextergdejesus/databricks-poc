{
 "cells": [
  {
   "cell_type": "code",
   "execution_count": 0,
   "metadata": {
    "application/vnd.databricks.v1+cell": {
     "cellMetadata": {},
     "inputWidgets": {},
     "nuid": "5eff15b9-b5fc-4675-b54e-de817f44e273",
     "showTitle": true,
     "tableResultSettingsMap": {},
     "title": "Import libraries and functions"
    }
   },
   "outputs": [],
   "source": [
    "# import logging\n",
    "from utils import logging_helper, analytics_helper, curation_helper"
   ]
  },
  {
   "cell_type": "code",
   "execution_count": 0,
   "metadata": {
    "application/vnd.databricks.v1+cell": {
     "cellMetadata": {},
     "inputWidgets": {},
     "nuid": "359df555-66b3-4c8e-ab7c-5f19b54aaeaf",
     "showTitle": false,
     "tableResultSettingsMap": {},
     "title": ""
    }
   },
   "outputs": [],
   "source": [
    "import importlib\n",
    "importlib.reload(curation_helper)"
   ]
  },
  {
   "cell_type": "code",
   "execution_count": 0,
   "metadata": {
    "application/vnd.databricks.v1+cell": {
     "cellMetadata": {},
     "inputWidgets": {},
     "nuid": "0fcdab37-972b-4678-bdc0-0a3e1375c1b9",
     "showTitle": true,
     "tableResultSettingsMap": {},
     "title": "Initialize log"
    }
   },
   "outputs": [],
   "source": [
    "results_log = []"
   ]
  },
  {
   "cell_type": "code",
   "execution_count": 0,
   "metadata": {
    "application/vnd.databricks.v1+cell": {
     "cellMetadata": {},
     "inputWidgets": {},
     "nuid": "ff71cb16-5bf2-474d-9898-b20cd6577d88",
     "showTitle": false,
     "tableResultSettingsMap": {},
     "title": ""
    }
   },
   "outputs": [],
   "source": [
    "summary_functions = {\n",
    "    \"summary_program_budget\": analytics_helper.summary_program_budget\n",
    "}\n",
    "\n",
    "for summary_table, func in summary_functions.items():\n",
    "    stage = \"silver_to_gold\"\n",
    "    try:\n",
    "        df = func()\n",
    "        curation_helper.fn_write_to_analytics_table(df,summary_table)\n",
    "        gold_count = df.count()\n",
    "        print(f\"Completed processing table: {summary_table}, Record count: {gold_count}\")\n",
    "        operation = \"Data Refresh\"\n",
    "        status = 'Success'\n",
    "        logging_helper.log_append(results_log,stage,summary_table,operation,status,gold_count)\n",
    "    except Exception as e:\n",
    "        status = \"Failed\"\n",
    "        operation = \"Exception Error\"\n",
    "        error_message = str(e)\n",
    "        logging_helper.log_append(results_log,stage,summary_table,operation,status,error_message)\n",
    "        print(f\"Error processing summary table: {summary_table}: {str(e)}\")\n",
    "        raise\n",
    "    finally:\n",
    "        logging_helper.log_write(spark, results_log)"
   ]
  }
 ],
 "metadata": {
  "application/vnd.databricks.v1+notebook": {
   "computePreferences": null,
   "dashboards": [],
   "environmentMetadata": {
    "base_environment": "",
    "environment_version": "4"
   },
   "inputWidgetPreferences": null,
   "language": "python",
   "notebookMetadata": {
    "pythonIndentUnit": 4
   },
   "notebookName": "silver_to_gold",
   "widgets": {}
  },
  "language_info": {
   "name": "python"
  }
 },
 "nbformat": 4,
 "nbformat_minor": 0
}
