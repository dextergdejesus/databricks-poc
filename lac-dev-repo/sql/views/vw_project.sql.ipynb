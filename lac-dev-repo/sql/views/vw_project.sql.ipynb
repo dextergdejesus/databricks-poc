{
 "cells": [
  {
   "cell_type": "code",
   "execution_count": 0,
   "metadata": {
    "application/vnd.databricks.v1+cell": {
     "cellMetadata": {
      "byteLimit": 2048000,
      "rowLimit": 10000
     },
     "inputWidgets": {},
     "nuid": "000b05f1-91de-427e-98f2-ebb585cd2cb2",
     "showTitle": false,
     "tableResultSettingsMap": {},
     "title": ""
    }
   },
   "outputs": [],
   "source": [
    "USE CATALOG ceo_analytics_dev;\n",
    "USE SCHEMA dbo;\n",
    "\n",
    "CREATE OR REPLACE VIEW ceo_analytics_dev.dbo.vw_projects AS\n",
    "SELECT\n",
    "    asg.SpendingGroupId         AS PillarId,\n",
    "    CASE\n",
    "        WHEN UPPER(LEFT(asg.GroupNameId,18)) = 'STRATEGIC PILLAR 1'\n",
    "        THEN 'FIRST PILLAR'\n",
    "        WHEN UPPER(LEFT(asg.GroupNameId,18)) = 'STRATEGIC PILLAR 2'\n",
    "        THEN 'SECOND PILLAR'\n",
    "        WHEN UPPER(LEFT(asg.GroupNameId,18)) = 'STRATEGIC PILLAR 3'\n",
    "        THEN 'THIRD PILLAR'\n",
    "    END                         AS PillarOrder,\n",
    "    SUBSTRING_INDEX(asg.GroupNameId, ':', -1)         AS Pillar,\n",
    "    asc1.SpendingCategoryId     AS CategoryId,\n",
    "    asc1.CategoryName           AS Category,\n",
    "    ap.ProjectId                AS ProgramId,\n",
    "    ap.ProjectName              AS Program,\n",
    "    aps.ExecutiveSummaryId      AS ProgramDescription,\n",
    "    tpg.FunctionGroupId         AS ProgramGroupID,\n",
    "    tfg.FunctionGroup           AS ProgramGroup,\n",
    "    tpg.FunctionTypeId          AS ProgramSubGroupID,\n",
    "    tft.FunctionType            AS ProgramSubGroup\n",
    "FROM        ceo_slv_dev.arp.dim_project ap\n",
    "LEFT JOIN   ceo_slv_dev.arp.dim_project_summary aps ON\n",
    "            aps.ProjectId = ap.ProjectId\n",
    "INNER JOIN  ceo_slv_dev.arp.dim_spending_category asc1 ON\n",
    "            asc1.SpendingCategoryId = ap.SpendingCategoryId\n",
    "INNER JOIN  ceo_slv_dev.arp.dim_spending_group asg ON\n",
    "            asg.SpendingGroupId = asc1.SpendingGroupId\n",
    "LEFT JOIN   ceo_slv_dev.taxonomy.dim_program_group_type tpg ON\n",
    "            tpg.ProjectId = ap.ProjectId\n",
    "LEFT JOIN  ceo_slv_dev.taxonomy.dim_function_group tfg ON\n",
    "            tfg.FunctionGroupId = tpg.FunctionGroupId AND \n",
    "            tfg.FunctionGroup = tfg.FunctionGroupId\n",
    "LEFT JOIN  ceo_slv_dev.taxonomy.dim_function_type tft ON \n",
    "            tft.FunctionTypeId = tpg.FunctionTypeId AND\n",
    "            tft.FunctionTypeId = tft.FunctionTypeId"
   ]
  }
 ],
 "metadata": {
  "application/vnd.databricks.v1+notebook": {
   "computePreferences": null,
   "dashboards": [],
   "environmentMetadata": {
    "base_environment": "",
    "environment_version": "4"
   },
   "inputWidgetPreferences": null,
   "language": "sql",
   "notebookMetadata": {
    "pythonIndentUnit": 4
   },
   "notebookName": "vw_project.sql",
   "widgets": {}
  },
  "language_info": {
   "name": "sql"
  }
 },
 "nbformat": 4,
 "nbformat_minor": 0
}
