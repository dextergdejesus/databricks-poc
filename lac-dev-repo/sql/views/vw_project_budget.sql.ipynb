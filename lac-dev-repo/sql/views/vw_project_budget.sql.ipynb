{
 "cells": [
  {
   "cell_type": "code",
   "execution_count": 0,
   "metadata": {
    "application/vnd.databricks.v1+cell": {
     "cellMetadata": {},
     "inputWidgets": {},
     "nuid": "6437828f-5ca0-43fd-bbd5-cdbb66303bc5",
     "showTitle": false,
     "tableResultSettingsMap": {},
     "title": ""
    }
   },
   "outputs": [],
   "source": [
    "-- The table ceo_slv_dev.arp.dim_program_budget does not exist. \n",
    "-- Replace it with ceo_slv_dev.arp.dim_project, which contains ProjectId and SpendingCategoryId.\n",
    "\n",
    "USE CATALOG ceo_analytics_dev;\n",
    "USE SCHEMA dbo;\n",
    "CREATE OR REPLACE VIEW ceo_analytics_dev.dbo.vw_program_budget AS\n",
    "SELECT\n",
    "    ProgramId,\n",
    "    CategoryId,\n",
    "    PillarId,\n",
    "    BudgetAllocation,\n",
    "    ProgramGroupId,\n",
    "    ProgramSubGroupId\n",
    "FROM        `ceo_analytics_dev`.`dbo`.`summary_program_budget` \n"
   ]
  }
 ],
 "metadata": {
  "application/vnd.databricks.v1+notebook": {
   "computePreferences": null,
   "dashboards": [],
   "environmentMetadata": {
    "base_environment": "",
    "environment_version": "4"
   },
   "inputWidgetPreferences": null,
   "language": "sql",
   "notebookMetadata": {
    "pythonIndentUnit": 2
   },
   "notebookName": "vw_project_budget.sql",
   "widgets": {}
  },
  "language_info": {
   "name": "sql"
  }
 },
 "nbformat": 4,
 "nbformat_minor": 0
}
