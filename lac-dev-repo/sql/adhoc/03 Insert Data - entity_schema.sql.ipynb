{
 "cells": [
  {
   "cell_type": "code",
   "execution_count": 0,
   "metadata": {
    "application/vnd.databricks.v1+cell": {
     "cellMetadata": {
      "byteLimit": 2048000,
      "rowLimit": 10000
     },
     "inputWidgets": {},
     "nuid": "ebaef33a-fac0-4118-a10c-3fb6f8b990d2",
     "showTitle": false,
     "tableResultSettingsMap": {},
     "title": ""
    }
   },
   "outputs": [],
   "source": [
    "INSERT INTO `ceo_brz_dev`.`dbo`.`entity_schema` (EntitySchemaId,EntityId,BronzeColumnName,BronzeDataType,SilverColumnName,SilverDataType,IsPrimaryKey,CleansingRule) SELECT 1,1,\"ProjectId\",\"int\",\"ProjectId\",\"int\",TRUE,\"\";\n",
    "INSERT INTO `ceo_brz_dev`.`dbo`.`entity_schema` (EntitySchemaId,EntityId,BronzeColumnName,BronzeDataType,SilverColumnName,SilverDataType,IsPrimaryKey,CleansingRule) SELECT 2,1,\"ProjectName\",\"nvarchar(200)\",\"ProjectName\",\"string\",FALSE,\"trim\";\n",
    "INSERT INTO `ceo_brz_dev`.`dbo`.`entity_schema` (EntitySchemaId,EntityId,BronzeColumnName,BronzeDataType,SilverColumnName,SilverDataType,IsPrimaryKey,CleansingRule) SELECT 3,1,\"ProjectCode\",\"nvarchar(50)\",\"ProjectCode\",\"string\",FALSE,\"trim\";\n",
    "INSERT INTO `ceo_brz_dev`.`dbo`.`entity_schema` (EntitySchemaId,EntityId,BronzeColumnName,BronzeDataType,SilverColumnName,SilverDataType,IsPrimaryKey,CleansingRule) SELECT 4,1,\"DepartmentId\",\"int\",\"DepartmentId\",\"int\",FALSE,\"\";\n",
    "INSERT INTO `ceo_brz_dev`.`dbo`.`entity_schema` (EntitySchemaId,EntityId,BronzeColumnName,BronzeDataType,SilverColumnName,SilverDataType,IsPrimaryKey,CleansingRule) SELECT 5,1,\"StatusId\",\"int\",\"StatusId\",\"int\",FALSE,\"\";\n",
    "INSERT INTO `ceo_brz_dev`.`dbo`.`entity_schema` (EntitySchemaId,EntityId,BronzeColumnName,BronzeDataType,SilverColumnName,SilverDataType,IsPrimaryKey,CleansingRule) SELECT 6,1,\"SpendingCategoryId\",\"int\",\"SpendingCategoryId\",\"int\",FALSE,\"\";\n",
    "INSERT INTO `ceo_brz_dev`.`dbo`.`entity_schema` (EntitySchemaId,EntityId,BronzeColumnName,BronzeDataType,SilverColumnName,SilverDataType,IsPrimaryKey,CleansingRule) SELECT 7,1,\"ProgramTypeId\",\"int\",\"ProgramTypeId\",\"int\",FALSE,\"\";\n",
    "INSERT INTO `ceo_brz_dev`.`dbo`.`entity_schema` (EntitySchemaId,EntityId,BronzeColumnName,BronzeDataType,SilverColumnName,SilverDataType,IsPrimaryKey,CleansingRule) SELECT 8,1,\"ExpenditureCategoryId\",\"int\",\"ExpenditureCategoryId\",\"int\",FALSE,\"\";\n",
    "INSERT INTO `ceo_brz_dev`.`dbo`.`entity_schema` (EntitySchemaId,EntityId,BronzeColumnName,BronzeDataType,SilverColumnName,SilverDataType,IsPrimaryKey,CleansingRule) SELECT 9,1,\"CreateDate\",\"datetime2\",\"CreateDate\",\"timestamp\",FALSE,\"to_timestamp\";\n",
    "INSERT INTO `ceo_brz_dev`.`dbo`.`entity_schema` (EntitySchemaId,EntityId,BronzeColumnName,BronzeDataType,SilverColumnName,SilverDataType,IsPrimaryKey,CleansingRule) SELECT 10,1,\"ApprovedDate\",\"datetime2\",\"ApprovedDate\",\"timestamp\",FALSE,\"to_timestamp\";\n",
    "INSERT INTO `ceo_brz_dev`.`dbo`.`entity_schema` (EntitySchemaId,EntityId,BronzeColumnName,BronzeDataType,SilverColumnName,SilverDataType,IsPrimaryKey,CleansingRule) SELECT 11,1,\"LaunchDate\",\"datetime2\",\"LaunchDate\",\"timestamp\",FALSE,\"to_timestamp\";\n",
    "INSERT INTO `ceo_brz_dev`.`dbo`.`entity_schema` (EntitySchemaId,EntityId,BronzeColumnName,BronzeDataType,SilverColumnName,SilverDataType,IsPrimaryKey,CleansingRule) SELECT 12,1,\"PlannedEndDate\",\"datetime2\",\"PlannedEndDate\",\"timestamp\",FALSE,\"to_timestamp\";\n",
    "INSERT INTO `ceo_brz_dev`.`dbo`.`entity_schema` (EntitySchemaId,EntityId,BronzeColumnName,BronzeDataType,SilverColumnName,SilverDataType,IsPrimaryKey,CleansingRule) SELECT 13,1,\"BudgetAmount\",\"decimal(12, 2)\",\"BudgetAmount\",\"decimal(12, 2)\",FALSE,\"\";\n",
    "INSERT INTO `ceo_brz_dev`.`dbo`.`entity_schema` (EntitySchemaId,EntityId,BronzeColumnName,BronzeDataType,SilverColumnName,SilverDataType,IsPrimaryKey,CleansingRule) SELECT 14,1,\"IsPresentedToFinancialRecovery\",\"bit\",\"IsPresentedToFinancialRecovery\",\"boolean\",FALSE,\"\";\n",
    "INSERT INTO `ceo_brz_dev`.`dbo`.`entity_schema` (EntitySchemaId,EntityId,BronzeColumnName,BronzeDataType,SilverColumnName,SilverDataType,IsPrimaryKey,CleansingRule) SELECT 15,1,\"IsApprovedByFinancialRecovery\",\"bit\",\"IsApprovedByFinancialRecovery\",\"boolean\",FALSE,\"\";\n",
    "INSERT INTO `ceo_brz_dev`.`dbo`.`entity_schema` (EntitySchemaId,EntityId,BronzeColumnName,BronzeDataType,SilverColumnName,SilverDataType,IsPrimaryKey,CleansingRule) SELECT 16,1,\"RevisedAmount\",\"decimal(12, 2)\",\"RevisedAmount\",\"decimal(12, 2)\",FALSE,\"\";\n",
    "INSERT INTO `ceo_brz_dev`.`dbo`.`entity_schema` (EntitySchemaId,EntityId,BronzeColumnName,BronzeDataType,SilverColumnName,SilverDataType,IsPrimaryKey,CleansingRule) SELECT 17,1,\"FinancialRecoveryApprovalDate\",\"datetime2\",\"FinancialRecoveryApprovalDate\",\"timestamp\",FALSE,\"to_timestamp\";\n",
    "INSERT INTO `ceo_brz_dev`.`dbo`.`entity_schema` (EntitySchemaId,EntityId,BronzeColumnName,BronzeDataType,SilverColumnName,SilverDataType,IsPrimaryKey,CleansingRule) SELECT 18,1,\"ExpenditureAmount\",\"decimal(12, 2)\",\"ExpenditureAmount\",\"decimal(12, 2)\",FALSE,\"\";\n",
    "INSERT INTO `ceo_brz_dev`.`dbo`.`entity_schema` (EntitySchemaId,EntityId,BronzeColumnName,BronzeDataType,SilverColumnName,SilverDataType,IsPrimaryKey,CleansingRule) SELECT 19,1,\"IsCFCI\",\"bit\",\"IsCFCI\",\"boolean\",FALSE,\"\";\n",
    "INSERT INTO `ceo_brz_dev`.`dbo`.`entity_schema` (EntitySchemaId,EntityId,BronzeColumnName,BronzeDataType,SilverColumnName,SilverDataType,IsPrimaryKey,CleansingRule) SELECT 20,1,\"IsPlanZ\",\"bit\",\"IsPlanZ\",\"boolean\",FALSE,\"\";\n",
    "INSERT INTO `ceo_brz_dev`.`dbo`.`entity_schema` (EntitySchemaId,EntityId,BronzeColumnName,BronzeDataType,SilverColumnName,SilverDataType,IsPrimaryKey,CleansingRule) SELECT 21,1,\"TrancheID\",\"int\",\"TrancheID\",\"int\",FALSE,\"\";\n",
    "INSERT INTO `ceo_brz_dev`.`dbo`.`entity_schema` (EntitySchemaId,EntityId,BronzeColumnName,BronzeDataType,SilverColumnName,SilverDataType,IsPrimaryKey,CleansingRule) SELECT 22,1,\"IsMonthlyUpdateNotRequired\",\"bit\",\"IsMonthlyUpdateNotRequired\",\"boolean\",FALSE,\"\";\n",
    "INSERT INTO `ceo_brz_dev`.`dbo`.`entity_schema` (EntitySchemaId,EntityId,BronzeColumnName,BronzeDataType,SilverColumnName,SilverDataType,IsPrimaryKey,CleansingRule) SELECT 23,1,\"ServiceStopDate\",\"date\",\"ServiceStopDate\",\"date\",FALSE,\"to_date\";\n",
    "INSERT INTO `ceo_brz_dev`.`dbo`.`entity_schema` (EntitySchemaId,EntityId,BronzeColumnName,BronzeDataType,SilverColumnName,SilverDataType,IsPrimaryKey,CleansingRule) SELECT 24,1,\"ClosureDate\",\"date\",\"ClosureDate\",\"date\",FALSE,\"to_date\";\n",
    "INSERT INTO `ceo_brz_dev`.`dbo`.`entity_schema` (EntitySchemaId,EntityId,BronzeColumnName,BronzeDataType,SilverColumnName,SilverDataType,IsPrimaryKey,CleansingRule) SELECT 25,1,\"IsARPA\",\"bit\",\"IsARPA\",\"boolean\",FALSE,\"\";\n",
    "INSERT INTO `ceo_brz_dev`.`dbo`.`entity_schema` (EntitySchemaId,EntityId,BronzeColumnName,BronzeDataType,SilverColumnName,SilverDataType,IsPrimaryKey,CleansingRule) SELECT 26,1,\"WithdrawlDate\",\"date\",\"WithdrawlDate\",\"date\",FALSE,\"to_date\";\n",
    "INSERT INTO `ceo_brz_dev`.`dbo`.`entity_schema` (EntitySchemaId,EntityId,BronzeColumnName,BronzeDataType,SilverColumnName,SilverDataType,IsPrimaryKey,CleansingRule) SELECT 27,1,\"IsSubproject\",\"bit\",\"IsSubproject\",\"boolean\",FALSE,\"\";\n",
    "INSERT INTO `ceo_brz_dev`.`dbo`.`entity_schema` (EntitySchemaId,EntityId,BronzeColumnName,BronzeDataType,SilverColumnName,SilverDataType,IsPrimaryKey,CleansingRule) SELECT 28,1,\"ParentProjectId\",\"int\",\"ParentProjectId\",\"int\",FALSE,\"\";\n",
    "INSERT INTO `ceo_brz_dev`.`dbo`.`entity_schema` (EntitySchemaId,EntityId,BronzeColumnName,BronzeDataType,SilverColumnName,SilverDataType,IsPrimaryKey,CleansingRule) SELECT 29,1,\"HasSentSurvey\",\"bit\",\"HasSentSurvey\",\"boolean\",FALSE,\"\";\n",
    "INSERT INTO `ceo_brz_dev`.`dbo`.`entity_schema` (EntitySchemaId,EntityId,BronzeColumnName,BronzeDataType,SilverColumnName,SilverDataType,IsPrimaryKey,CleansingRule) SELECT 30,1,\"IsPartialPlanZ\",\"bit\",\"IsPartialPlanZ\",\"boolean\",FALSE,\"\";\n",
    "INSERT INTO `ceo_brz_dev`.`dbo`.`entity_schema` (EntitySchemaId,EntityId,BronzeColumnName,BronzeDataType,SilverColumnName,SilverDataType,IsPrimaryKey,CleansingRule) SELECT 31,1,\"PlanZAmount\",\"decimal(13, 2)\",\"PlanZAmount\",\"decimal(13, 2)\",FALSE,\"\";\n",
    "INSERT INTO `ceo_brz_dev`.`dbo`.`entity_schema` (EntitySchemaId,EntityId,BronzeColumnName,BronzeDataType,SilverColumnName,SilverDataType,IsPrimaryKey,CleansingRule) SELECT 32,1,\"PlanZDate\",\"datetime2\",\"PlanZDate\",\"timestamp\",FALSE,\"to_timestamp\";\n",
    "INSERT INTO `ceo_brz_dev`.`dbo`.`entity_schema` (EntitySchemaId,EntityId,BronzeColumnName,BronzeDataType,SilverColumnName,SilverDataType,IsPrimaryKey,CleansingRule) SELECT 33,1,\"IsArchived\",\"bit\",\"IsArchived\",\"boolean\",FALSE,\"\";\n",
    "INSERT INTO `ceo_brz_dev`.`dbo`.`entity_schema` (EntitySchemaId,EntityId,BronzeColumnName,BronzeDataType,SilverColumnName,SilverDataType,IsPrimaryKey,CleansingRule) SELECT 34,2,\"ProjectBudgetId\",\"int\",\"ProjectBudgetId\",\"int\",TRUE,\"\";\n",
    "INSERT INTO `ceo_brz_dev`.`dbo`.`entity_schema` (EntitySchemaId,EntityId,BronzeColumnName,BronzeDataType,SilverColumnName,SilverDataType,IsPrimaryKey,CleansingRule) SELECT 35,2,\"ProjectId\",\"int\",\"ProjectId\",\"int\",FALSE,\"\";\n",
    "INSERT INTO `ceo_brz_dev`.`dbo`.`entity_schema` (EntitySchemaId,EntityId,BronzeColumnName,BronzeDataType,SilverColumnName,SilverDataType,IsPrimaryKey,CleansingRule) SELECT 36,2,\"BudgetTypeId\",\"int\",\"BudgetTypeId\",\"int\",FALSE,\"\";\n",
    "INSERT INTO `ceo_brz_dev`.`dbo`.`entity_schema` (EntitySchemaId,EntityId,BronzeColumnName,BronzeDataType,SilverColumnName,SilverDataType,IsPrimaryKey,CleansingRule) SELECT 37,2,\"OriginalAmount\",\"decimal(12,2)\",\"OriginalAmount\",\"decimal(12,2)\",FALSE,\"\";\n",
    "INSERT INTO `ceo_brz_dev`.`dbo`.`entity_schema` (EntitySchemaId,EntityId,BronzeColumnName,BronzeDataType,SilverColumnName,SilverDataType,IsPrimaryKey,CleansingRule) SELECT 38,2,\"RevisedAmount\",\"decimal(12,2)\",\"RevisedAmount\",\"decimal(12,2)\",FALSE,\"\";\n",
    "INSERT INTO `ceo_brz_dev`.`dbo`.`entity_schema` (EntitySchemaId,EntityId,BronzeColumnName,BronzeDataType,SilverColumnName,SilverDataType,IsPrimaryKey,CleansingRule) SELECT 39,2,\"LastUpdateDate\",\"datetime2\",\"LastUpdatedDate\",\"timestamp\",FALSE,\"to_timestamp\";"
   ]
  }
 ],
 "metadata": {
  "application/vnd.databricks.v1+notebook": {
   "computePreferences": null,
   "dashboards": [],
   "environmentMetadata": {
    "base_environment": "",
    "environment_version": "4"
   },
   "inputWidgetPreferences": null,
   "language": "sql",
   "notebookMetadata": {
    "pythonIndentUnit": 4
   },
   "notebookName": "03 Insert Data - entity_schema.sql",
   "widgets": {}
  },
  "language_info": {
   "name": "sql"
  }
 },
 "nbformat": 4,
 "nbformat_minor": 0
}
