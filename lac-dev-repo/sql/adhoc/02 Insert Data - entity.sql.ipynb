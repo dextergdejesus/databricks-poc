{
 "cells": [
  {
   "cell_type": "code",
   "execution_count": 0,
   "metadata": {
    "application/vnd.databricks.v1+cell": {
     "cellMetadata": {
      "byteLimit": 2048000,
      "rowLimit": 10000
     },
     "inputWidgets": {},
     "nuid": "173e9c03-098d-4644-bf49-44c50c4a1f66",
     "showTitle": false,
     "tableResultSettingsMap": {},
     "title": ""
    }
   },
   "outputs": [],
   "source": [
    "INSERT INTO `ceo_brz_dev`.`dbo`.`entity` (EntityId,EntityName,BronzeFileName,BronzePath,BronzeFormat,BronzeCatalog,BronzeSchema,BronzeTableName,SilverPath,SilverFormat,SilverCatalog,SilverSchema,SilverTableName,LoadType,IsFileAvailableInBronze) SELECT 1,\"Project\",\"Project.parquet\",\"abfss://brz@storagecwihceodevde.dfs.core.windows.net/Project/\",\"PARQUET\",\"ceo_brz_dev\",\"arp\",\"project\",\"abfss://slv@storagecwihceodevde.dfs.core.windows.net/ceo_slv_dev/Project/\",\"DELTA\",\"ceo_slv_dev\",\"arp\",\"dim_project\",\"Full Load\",TRUE WHERE NOT EXISTS (SELECT 1 FROM `ceo_brz_dev`.`dbo`.`entity` WHERE EntityName = \"Project\");\n",
    "INSERT INTO `ceo_brz_dev`.`dbo`.`entity` (EntityId,EntityName,BronzeFileName,BronzePath,BronzeFormat,BronzeCatalog,BronzeSchema,BronzeTableName,SilverPath,SilverFormat,SilverCatalog,SilverSchema,SilverTableName,LoadType,IsFileAvailableInBronze) SELECT 2,\"ProjectBudget\",\"ProjectBudget.parquet\",\"abfss://brz@storagecwihceodevde.dfs.core.windows.net/ProjectBudget/\",\"PARQUET\",\"ceo_brz_dev\",\"arp\",\"project_budget\",\"abfss://slv@storagecwihceodevde.dfs.core.windows.net/ceo_slv_dev/ProjectBudget/\",\"DELTA\",\"ceo_slv_dev\",\"arp\",\"dim_project_budget\",\"Full Load\",TRUE WHERE NOT EXISTS (SELECT 1 FROM `ceo_brz_dev`.`dbo`.`entity` WHERE EntityName = \"ProjectBudget\");"
   ]
  }
 ],
 "metadata": {
  "application/vnd.databricks.v1+notebook": {
   "computePreferences": null,
   "dashboards": [],
   "environmentMetadata": {
    "base_environment": "",
    "environment_version": "4"
   },
   "inputWidgetPreferences": null,
   "language": "sql",
   "notebookMetadata": {
    "pythonIndentUnit": 4
   },
   "notebookName": "02 Insert Data - entity.sql",
   "widgets": {}
  },
  "language_info": {
   "name": "sql"
  }
 },
 "nbformat": 4,
 "nbformat_minor": 0
}
