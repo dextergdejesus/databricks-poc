{
 "cells": [
  {
   "cell_type": "code",
   "execution_count": 0,
   "metadata": {
    "application/vnd.databricks.v1+cell": {
     "cellMetadata": {
      "byteLimit": 2048000,
      "rowLimit": 10000
     },
     "inputWidgets": {},
     "nuid": "6f70c89d-b45b-4913-af00-320906c65b23",
     "showTitle": false,
     "tableResultSettingsMap": {},
     "title": ""
    }
   },
   "outputs": [],
   "source": [
    "USE CATALOG ceo_brz_dev;\n",
    "USE SCHEMA dbo;\n",
    "-- DROP TABLE IF EXISTS `ceo_brz_dev`.`dbo`.`entity`;\n",
    "CREATE TABLE `ceo_brz_dev`.`dbo`.`entity` (\n",
    "  EntityId INT,\n",
    "  EntityName STRING,\n",
    "  BronzeFileName STRING,\n",
    "  BronzePath STRING,\n",
    "  BronzeFormat STRING,\n",
    "  BronzeCatalog STRING,\n",
    "  BronzeSchema STRING,\n",
    "  BronzeTableName STRING,\n",
    "  SilverPath STRING,\n",
    "  SilverFormat STRING,\n",
    "  SilverCatalog STRING,\n",
    "  SilverSchema STRING,\n",
    "  SilverTableName STRING,\n",
    "  LoadType STRING,\n",
    "  LastExtractionDate TIMESTAMP,\n",
    "  IsFileAvailableInBronze BOOLEAN\n",
    ");\n",
    "\n",
    "-- DROP TABLE IF EXISTS `ceo_brz_dev`.`dbo`.`entity_schema`;\n",
    "CREATE TABLE `ceo_brz_dev`.`dbo`.`entity_schema` (\n",
    "  EntitySchemaId INT,\n",
    "  EntityId STRING,\n",
    "  BronzeColumnName STRING,\n",
    "  BronzeDataType STRING,\n",
    "  SilverColumnName STRING,\n",
    "  SilverDataType STRING,\n",
    "  IsPrimaryKey BOOLEAN,\n",
    "  CleansingRule STRING)\n",
    "USING DELTA;\n",
    "\n",
    "-- DROP TABLE IF EXISTS `ceo_brz_dev`.`dbo`.`entity_log`;\n",
    "CREATE TABLE `ceo_brz_dev`.`dbo`.`entity_log` (\n",
    "  LogDate DATE,\n",
    "  ExecutionDate TIMESTAMP,\n",
    "  Stage STRING,\n",
    "  EntityName STRING,\n",
    "  Operation STRING,\n",
    "  Status STRING,\n",
    "  BronzeCount BIGINT,\n",
    "  SilverCount BIGINT,\n",
    "  GoldCount BIGINT,\n",
    "  ErrorMessage STRING)\n",
    "USING DELTA\n",
    "PARTITIONED BY (LogDate);\n",
    "\n",
    "\n",
    "\n",
    "\n"
   ]
  },
  {
   "cell_type": "code",
   "execution_count": 0,
   "metadata": {
    "application/vnd.databricks.v1+cell": {
     "cellMetadata": {
      "byteLimit": 2048000,
      "rowLimit": 10000
     },
     "inputWidgets": {},
     "nuid": "028813be-c718-4a6f-b28f-d49d695626e0",
     "showTitle": false,
     "tableResultSettingsMap": {},
     "title": ""
    }
   },
   "outputs": [],
   "source": [
    "%sh dig +short storagelactestdatalake.dfs.core.windows.net"
   ]
  }
 ],
 "metadata": {
  "application/vnd.databricks.v1+notebook": {
   "computePreferences": null,
   "dashboards": [],
   "environmentMetadata": {
    "base_environment": "",
    "environment_version": "4"
   },
   "inputWidgetPreferences": null,
   "language": "sql",
   "notebookMetadata": {
    "mostRecentlyExecutedCommandWithImplicitDF": {
     "commandId": 7370376259690026,
     "dataframes": [
      "_sqldf"
     ]
    },
    "pythonIndentUnit": 4
   },
   "notebookName": "01 Create tables.sql",
   "widgets": {}
  },
  "language_info": {
   "name": "sql"
  }
 },
 "nbformat": 4,
 "nbformat_minor": 0
}
