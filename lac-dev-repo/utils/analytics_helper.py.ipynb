{
 "cells": [
  {
   "cell_type": "code",
   "execution_count": 0,
   "metadata": {
    "application/vnd.databricks.v1+cell": {
     "cellMetadata": {},
     "inputWidgets": {},
     "nuid": "c4b03bf0-e1f9-4694-9741-5cc5d7e46559",
     "showTitle": false,
     "tableResultSettingsMap": {},
     "title": ""
    }
   },
   "outputs": [],
   "source": [
    "%python\n",
    "from pyspark.sql import SparkSession\n",
    "\n",
    "def get_spark():\n",
    "    return SparkSession.builder.getOrCreate()\n",
    "\n",
    "def summary_program_budget ():\n",
    "    spark = get_spark()\n",
    "    aggregated_data = spark.sql(\"\"\"\n",
    "                                SELECT\n",
    "                                            ap.ProjectId AS ProgramId,\n",
    "                                            `asc`.SpendingCategoryId AS CategoryId,\n",
    "                                            asg.SpendingGroupId AS PillarId,\n",
    "                                            ap.RevisedAmount AS BudgetAllocation,\n",
    "                                            tpg.FunctionGroupId AS ProgramGroupId,\n",
    "                                            tpg.FunctionTypeId AS ProgramSubGroupId\n",
    "                                FROM        `ceo_slv_dev`.`arp`.`dim_project` ap\n",
    "                                INNER JOIN  `ceo_slv_dev`.`arp`.`dim_spending_category` `asc` ON\n",
    "                                            `asc`.SpendingCategoryId = ap.SpendingCategoryId\n",
    "                                INNER JOIN  `ceo_slv_dev`.`arp`.`dim_spending_group` asg ON\n",
    "                                            asg.SpendingGroupId = `asc`.SpendingGroupId\n",
    "                                LEFT JOIN   ceo_slv_dev.taxonomy.dim_program_group_type tpg ON\n",
    "                                            tpg.ProjectId = ap.ProjectId\n",
    "                                LEFT JOIN   ceo_slv_dev.taxonomy.dim_function_group tfg ON\n",
    "                                            tfg.FunctionGroupId = tpg.FunctionGroupId AND \n",
    "                                            tfg.FunctionGroup = tfg.FunctionGroupId\n",
    "                                LEFT JOIN   ceo_slv_dev.taxonomy.dim_function_type tft ON \n",
    "                                            tft.FunctionTypeId = tpg.FunctionTypeId AND\n",
    "                                            tft.FunctionTypeId = tft.FunctionTypeId\n",
    "                                \n",
    "                                \"\"\")\n",
    "    return aggregated_data\n",
    "\n",
    "def fn_name():\n",
    "    spark = get_spark()\n",
    "    df = spark.sql(\"\"\"\n",
    "                                   \n",
    "                                   \"\"\")\n",
    "    return df\n",
    "\n"
   ]
  }
 ],
 "metadata": {
  "application/vnd.databricks.v1+notebook": {
   "computePreferences": null,
   "dashboards": [],
   "environmentMetadata": {
    "base_environment": "",
    "environment_version": "4"
   },
   "inputWidgetPreferences": null,
   "language": "sql",
   "notebookMetadata": {
    "pythonIndentUnit": 4
   },
   "notebookName": "analytics_helper.py",
   "widgets": {}
  },
  "language_info": {
   "name": "sql"
  }
 },
 "nbformat": 4,
 "nbformat_minor": 0
}
