{
 "cells": [
  {
   "cell_type": "code",
   "execution_count": 0,
   "metadata": {
    "application/vnd.databricks.v1+cell": {
     "cellMetadata": {},
     "inputWidgets": {},
     "nuid": "600ffafc-8bb2-4c17-8deb-c9c551d8dfd6",
     "showTitle": false,
     "tableResultSettingsMap": {},
     "title": ""
    }
   },
   "outputs": [],
   "source": [
    "This notebook is clone of Curationv2 notebook: Bronze To Silver Data Transformation with updated features\n",
    "\n",
    "the helper function is .py\n",
    "the logging will have it's own helper notebook .py"
   ]
  },
  {
   "cell_type": "code",
   "execution_count": 0,
   "metadata": {
    "application/vnd.databricks.v1+cell": {
     "cellMetadata": {},
     "inputWidgets": {},
     "nuid": "af31ea9b-b7fe-45fa-baf6-28fde2699f46",
     "showTitle": false,
     "tableResultSettingsMap": {},
     "title": ""
    }
   },
   "outputs": [],
   "source": [
    "# dbutils.library.restartPython()\n",
    "# import importlib\n",
    "# importlib.reload(curation_helper)"
   ]
  },
  {
   "cell_type": "code",
   "execution_count": 0,
   "metadata": {
    "application/vnd.databricks.v1+cell": {
     "cellMetadata": {},
     "inputWidgets": {},
     "nuid": "60c94a7a-0e10-4b9e-b657-5211a3e659e0",
     "showTitle": true,
     "tableResultSettingsMap": {},
     "title": "Import libraries"
    }
   },
   "outputs": [],
   "source": [
    "from utils import logging_helper, curation_helper"
   ]
  },
  {
   "cell_type": "code",
   "execution_count": 0,
   "metadata": {
    "application/vnd.databricks.v1+cell": {
     "cellMetadata": {},
     "inputWidgets": {},
     "nuid": "64abd6dd-ac48-4fec-be90-bd300ec9eb79",
     "showTitle": true,
     "tableResultSettingsMap": {},
     "title": "Establish data lake connection"
    }
   },
   "outputs": [],
   "source": [
    "# fn_adls_connector(kv_secret_scope, storage_account, application_id, service_principal, tenant_id)\n",
    "curation_helper.fn_adls_connector()"
   ]
  },
  {
   "cell_type": "code",
   "execution_count": 0,
   "metadata": {
    "application/vnd.databricks.v1+cell": {
     "cellMetadata": {},
     "inputWidgets": {},
     "nuid": "9b7860d5-6c18-4e9e-be0c-e1e54b6a9e27",
     "showTitle": true,
     "tableResultSettingsMap": {},
     "title": "Get table metadata for ingestion"
    }
   },
   "outputs": [],
   "source": [
    "# this command is to create the widget/parameter required for this notebook\n",
    "dbutils.widgets.text(\"p_entity_name\",\"\",\"\")\n",
    "dbutils.widgets.dropdown(\"p_is_all_entity\", \"no\", [\"yes\", \"no\"], \"All tables?\")\n",
    "\n",
    "# initialize variables from the widgets\n",
    "entity_name = dbutils.widgets.get(\"p_entity_name\")\n",
    "is_all_entity = dbutils.widgets.get(\"p_is_all_entity\")\n",
    "\n",
    "table_metadata = curation_helper.fn_get_entity_list(entity_name,is_all_entity)"
   ]
  },
  {
   "cell_type": "code",
   "execution_count": 0,
   "metadata": {
    "application/vnd.databricks.v1+cell": {
     "cellMetadata": {},
     "inputWidgets": {},
     "nuid": "eeb7df08-faed-419d-96da-02ab0f9aa40f",
     "showTitle": true,
     "tableResultSettingsMap": {},
     "title": "Perform data ingestion"
    }
   },
   "outputs": [],
   "source": [
    "results_log = []\n",
    "rows = table_metadata.collect()\n",
    "print(f\"Starting data processing\")\n",
    "for row in rows:\n",
    "    stage = \"bronze_to_silver\"\n",
    "    try:\n",
    "        status = \"Success\"\n",
    "        table_name = row[\"EntityName\"]\n",
    "        bronze_name = row[\"BronzeTableName\"]\n",
    "        bronze_path = row[\"BronzePath\"]\n",
    "        load_type = row[\"LoadType\"]\n",
    "        bronze_format = row[\"BronzeFormat\"]\n",
    "        bronze_catalog = row[\"BronzeCatalog\"]\n",
    "        bronze_schema = row[\"BronzeSchema\"]\n",
    "        silver_path = row[\"SilverPath\"]\n",
    "        silver_name = row[\"SilverTableName\"]\n",
    "        silver_format = row[\"SilverFormat\"]\n",
    "        silver_catalog = row[\"SilverCatalog\"]\n",
    "        silver_schema = row[\"SilverSchema\"]\n",
    "\n",
    "        print(f\"Processing entity: {table_name}\")\n",
    "\n",
    "        curation_helper.fn_register_uc_table (\n",
    "            table_format=bronze_format, \n",
    "            table_catalog=bronze_catalog, \n",
    "            table_schema=bronze_schema, \n",
    "            table_name=bronze_name, \n",
    "            table_path=bronze_path)\n",
    "\n",
    "\n",
    "        # Read all the files in all subdirectories under the bronze path\n",
    "        bronze_df = curation_helper.fn_read_bronze(bronze_path)\n",
    "\n",
    "        bronze_count = bronze_df.count()\n",
    "\n",
    "        # Get schema of the table to be ingested\n",
    "        schema_df = curation_helper.fn_get_entity_schema(table_name)\n",
    "        \n",
    "        # Perform data transformations\n",
    "        curated_df, primary_key = curation_helper.fn_apply_cleansing(bronze_df,schema_df)\n",
    "        silver_count = curated_df.count()\n",
    "\n",
    "        # Perform UPSERT\n",
    "        operation = curation_helper.fn_write_to_silver(\n",
    "            cleaned_bronze_df=curated_df,\n",
    "            load_type=load_type,\n",
    "            silver_path=silver_path,\n",
    "            primary_key=primary_key,\n",
    "            entity_name=table_name,\n",
    "            table_format = silver_format,\n",
    "            table_catalog = silver_catalog,\n",
    "            table_schema = silver_schema,\n",
    "            silver_name=silver_name)\n",
    "        \n",
    "        # Update entity table\n",
    "        curation_helper.fn_update_entity_metadata(table_name)\n",
    "        \n",
    "        logging_helper.log_append(results_log,stage,table_name,operation,status,bronze_count,silver_count)\n",
    "    except Exception as e:\n",
    "        status = \"Failed\"\n",
    "        operation = \"Exception Error\"\n",
    "        error_message = str(e)\n",
    "        logging_helper.log_append(results_log,stage,table_name,operation,status,error_message)\n",
    "        \n",
    "        print(f\"Error processing entity: {table_name}: {str(e)}\")\n",
    "        raise\n",
    "    finally:\n",
    "        logging_helper.log_write(spark, results_log)"
   ]
  }
 ],
 "metadata": {
  "application/vnd.databricks.v1+notebook": {
   "computePreferences": null,
   "dashboards": [],
   "environmentMetadata": {
    "base_environment": "",
    "environment_version": "4"
   },
   "inputWidgetPreferences": null,
   "language": "python",
   "notebookMetadata": {
    "pythonIndentUnit": 4
   },
   "notebookName": "bronze_to_silver",
   "widgets": {}
  },
  "language_info": {
   "name": "python"
  }
 },
 "nbformat": 4,
 "nbformat_minor": 0
}
